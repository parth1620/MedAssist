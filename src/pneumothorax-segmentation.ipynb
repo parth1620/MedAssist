{
 "cells": [
  {
   "cell_type": "code",
   "execution_count": 1,
   "id": "d3a6403d",
   "metadata": {
    "_cell_guid": "c4063160-c6e6-49d9-9090-1962cea0b6f8",
    "_uuid": "7f19e034-2e70-4525-9cd3-a3e42a7ddb57",
    "collapsed": false,
    "execution": {
     "iopub.execute_input": "2021-11-21T11:08:42.139705Z",
     "iopub.status.busy": "2021-11-21T11:08:42.138203Z",
     "iopub.status.idle": "2021-11-21T11:08:42.146965Z",
     "shell.execute_reply": "2021-11-21T11:08:42.146415Z",
     "shell.execute_reply.started": "2021-11-21T10:56:28.777042Z"
    },
    "jupyter": {
     "outputs_hidden": false
    },
    "papermill": {
     "duration": 0.026352,
     "end_time": "2021-11-21T11:08:42.147102",
     "exception": false,
     "start_time": "2021-11-21T11:08:42.120750",
     "status": "completed"
    },
    "tags": []
   },
   "outputs": [],
   "source": [
    "import sys \n",
    "\n",
    "sys.path.append('../input/flashlib/Flash-trainer')"
   ]
  },
  {
   "cell_type": "code",
   "execution_count": 2,
   "id": "d003fd85",
   "metadata": {
    "_cell_guid": "92b9498a-3d95-47ee-9985-2ab9756989d3",
    "_uuid": "808be6b7-39ed-47b6-abe2-858705c1ccb8",
    "collapsed": false,
    "execution": {
     "iopub.execute_input": "2021-11-21T11:08:42.172570Z",
     "iopub.status.busy": "2021-11-21T11:08:42.172027Z",
     "iopub.status.idle": "2021-11-21T11:09:13.756987Z",
     "shell.execute_reply": "2021-11-21T11:09:13.756107Z",
     "shell.execute_reply.started": "2021-11-21T10:56:28.795813Z"
    },
    "jupyter": {
     "outputs_hidden": false
    },
    "papermill": {
     "duration": 31.59938,
     "end_time": "2021-11-21T11:09:13.757139",
     "exception": false,
     "start_time": "2021-11-21T11:08:42.157759",
     "status": "completed"
    },
    "tags": []
   },
   "outputs": [
    {
     "name": "stdout",
     "output_type": "stream",
     "text": [
      "Collecting neptune-client\r\n",
      "  Downloading neptune-client-0.13.1.tar.gz (278 kB)\r\n",
      "\u001b[K     |████████████████████████████████| 278 kB 285 kB/s \r\n",
      "\u001b[?25hCollecting bravado\r\n",
      "  Downloading bravado-11.0.3-py2.py3-none-any.whl (38 kB)\r\n",
      "Requirement already satisfied: click>=7.0 in /opt/conda/lib/python3.7/site-packages (from neptune-client) (8.0.1)\r\n",
      "Requirement already satisfied: future>=0.17.1 in /opt/conda/lib/python3.7/site-packages (from neptune-client) (0.18.2)\r\n",
      "Requirement already satisfied: oauthlib>=2.1.0 in /opt/conda/lib/python3.7/site-packages (from neptune-client) (3.1.1)\r\n",
      "Requirement already satisfied: pandas in /opt/conda/lib/python3.7/site-packages (from neptune-client) (1.3.4)\r\n",
      "Requirement already satisfied: Pillow>=1.1.6 in /opt/conda/lib/python3.7/site-packages (from neptune-client) (8.2.0)\r\n",
      "Requirement already satisfied: PyJWT in /opt/conda/lib/python3.7/site-packages (from neptune-client) (2.1.0)\r\n",
      "Requirement already satisfied: requests>=2.20.0 in /opt/conda/lib/python3.7/site-packages (from neptune-client) (2.25.1)\r\n",
      "Requirement already satisfied: requests-oauthlib>=1.0.0 in /opt/conda/lib/python3.7/site-packages (from neptune-client) (1.3.0)\r\n",
      "Requirement already satisfied: six>=1.12.0 in /opt/conda/lib/python3.7/site-packages (from neptune-client) (1.16.0)\r\n",
      "Requirement already satisfied: websocket-client!=1.0.0,>=0.35.0 in /opt/conda/lib/python3.7/site-packages (from neptune-client) (0.57.0)\r\n",
      "Requirement already satisfied: GitPython>=2.0.8 in /opt/conda/lib/python3.7/site-packages (from neptune-client) (3.1.23)\r\n",
      "Requirement already satisfied: boto3>=1.16.0 in /opt/conda/lib/python3.7/site-packages (from neptune-client) (1.19.4)\r\n",
      "Requirement already satisfied: packaging in /opt/conda/lib/python3.7/site-packages (from neptune-client) (21.0)\r\n",
      "Requirement already satisfied: urllib3 in /opt/conda/lib/python3.7/site-packages (from neptune-client) (1.26.6)\r\n",
      "Requirement already satisfied: jsonschema<4 in /opt/conda/lib/python3.7/site-packages (from neptune-client) (3.2.0)\r\n",
      "Requirement already satisfied: psutil in /opt/conda/lib/python3.7/site-packages (from neptune-client) (5.8.0)\r\n",
      "Requirement already satisfied: botocore<1.23.0,>=1.22.4 in /opt/conda/lib/python3.7/site-packages (from boto3>=1.16.0->neptune-client) (1.22.4)\r\n",
      "Requirement already satisfied: s3transfer<0.6.0,>=0.5.0 in /opt/conda/lib/python3.7/site-packages (from boto3>=1.16.0->neptune-client) (0.5.0)\r\n",
      "Requirement already satisfied: jmespath<1.0.0,>=0.7.1 in /opt/conda/lib/python3.7/site-packages (from boto3>=1.16.0->neptune-client) (0.10.0)\r\n",
      "Requirement already satisfied: python-dateutil<3.0.0,>=2.1 in /opt/conda/lib/python3.7/site-packages (from botocore<1.23.0,>=1.22.4->boto3>=1.16.0->neptune-client) (2.8.0)\r\n",
      "Requirement already satisfied: importlib-metadata in /opt/conda/lib/python3.7/site-packages (from click>=7.0->neptune-client) (4.8.1)\r\n",
      "Requirement already satisfied: gitdb<5,>=4.0.1 in /opt/conda/lib/python3.7/site-packages (from GitPython>=2.0.8->neptune-client) (4.0.7)\r\n",
      "Requirement already satisfied: typing-extensions>=3.7.4.3 in /opt/conda/lib/python3.7/site-packages (from GitPython>=2.0.8->neptune-client) (3.10.0.2)\r\n",
      "Requirement already satisfied: smmap<5,>=3.0.1 in /opt/conda/lib/python3.7/site-packages (from gitdb<5,>=4.0.1->GitPython>=2.0.8->neptune-client) (3.0.5)\r\n",
      "Requirement already satisfied: attrs>=17.4.0 in /opt/conda/lib/python3.7/site-packages (from jsonschema<4->neptune-client) (21.2.0)\r\n",
      "Requirement already satisfied: setuptools in /opt/conda/lib/python3.7/site-packages (from jsonschema<4->neptune-client) (58.0.4)\r\n",
      "Requirement already satisfied: pyrsistent>=0.14.0 in /opt/conda/lib/python3.7/site-packages (from jsonschema<4->neptune-client) (0.17.3)\r\n",
      "Requirement already satisfied: certifi>=2017.4.17 in /opt/conda/lib/python3.7/site-packages (from requests>=2.20.0->neptune-client) (2021.10.8)\r\n",
      "Requirement already satisfied: chardet<5,>=3.0.2 in /opt/conda/lib/python3.7/site-packages (from requests>=2.20.0->neptune-client) (4.0.0)\r\n",
      "Requirement already satisfied: idna<3,>=2.5 in /opt/conda/lib/python3.7/site-packages (from requests>=2.20.0->neptune-client) (2.10)\r\n",
      "Requirement already satisfied: simplejson in /opt/conda/lib/python3.7/site-packages (from bravado->neptune-client) (3.17.5)\r\n",
      "Collecting monotonic\r\n",
      "  Downloading monotonic-1.6-py2.py3-none-any.whl (8.2 kB)\r\n",
      "Requirement already satisfied: msgpack in /opt/conda/lib/python3.7/site-packages (from bravado->neptune-client) (1.0.2)\r\n",
      "Requirement already satisfied: pyyaml in /opt/conda/lib/python3.7/site-packages (from bravado->neptune-client) (5.4.1)\r\n",
      "Collecting bravado-core>=5.16.1\r\n",
      "  Downloading bravado_core-5.17.0-py2.py3-none-any.whl (67 kB)\r\n",
      "\u001b[K     |████████████████████████████████| 67 kB 2.4 MB/s \r\n",
      "\u001b[?25hCollecting jsonref\r\n",
      "  Downloading jsonref-0.2-py3-none-any.whl (9.3 kB)\r\n",
      "Collecting swagger-spec-validator>=2.0.1\r\n",
      "  Downloading swagger_spec_validator-2.7.4-py2.py3-none-any.whl (27 kB)\r\n",
      "Requirement already satisfied: pytz in /opt/conda/lib/python3.7/site-packages (from bravado-core>=5.16.1->bravado->neptune-client) (2021.1)\r\n",
      "Collecting jsonpointer>1.13\r\n",
      "  Downloading jsonpointer-2.2-py2.py3-none-any.whl (7.5 kB)\r\n",
      "Collecting webcolors\r\n",
      "  Downloading webcolors-1.11.1-py3-none-any.whl (9.9 kB)\r\n",
      "Collecting strict-rfc3339\r\n",
      "  Downloading strict-rfc3339-0.7.tar.gz (17 kB)\r\n",
      "Collecting rfc3987\r\n",
      "  Downloading rfc3987-1.3.8-py2.py3-none-any.whl (13 kB)\r\n",
      "Requirement already satisfied: zipp>=0.5 in /opt/conda/lib/python3.7/site-packages (from importlib-metadata->click>=7.0->neptune-client) (3.5.0)\r\n",
      "Requirement already satisfied: pyparsing>=2.0.2 in /opt/conda/lib/python3.7/site-packages (from packaging->neptune-client) (2.4.7)\r\n",
      "Requirement already satisfied: numpy>=1.17.3 in /opt/conda/lib/python3.7/site-packages (from pandas->neptune-client) (1.19.5)\r\n",
      "Building wheels for collected packages: neptune-client, strict-rfc3339\r\n",
      "  Building wheel for neptune-client (setup.py) ... \u001b[?25l-\b \b\\\b \b|\b \b/\b \bdone\r\n",
      "\u001b[?25h  Created wheel for neptune-client: filename=neptune_client-0.13.1-py2.py3-none-any.whl size=482645 sha256=8d2788e8d6b784aa00d4d62e843690b43649f73f60b8a2335607169163da32db\r\n",
      "  Stored in directory: /root/.cache/pip/wheels/6a/fd/22/31d584fb3011b4d5dc428d879e4e2a0708869dc80e33cd3c7f\r\n",
      "  Building wheel for strict-rfc3339 (setup.py) ... \u001b[?25l-\b \bdone\r\n",
      "\u001b[?25h  Created wheel for strict-rfc3339: filename=strict_rfc3339-0.7-py3-none-any.whl size=18149 sha256=00fe1a7de3f57181f2af1933b9b53bf82a5121a4a5f27403ced07e3df39665a1\r\n",
      "  Stored in directory: /root/.cache/pip/wheels/f3/1d/9f/2a74caecb81b8beb9a4fbe1754203d4b7cf42ef5d39e0d2311\r\n",
      "Successfully built neptune-client strict-rfc3339\r\n",
      "Installing collected packages: webcolors, strict-rfc3339, rfc3987, jsonpointer, swagger-spec-validator, jsonref, monotonic, bravado-core, bravado, neptune-client\r\n",
      "Successfully installed bravado-11.0.3 bravado-core-5.17.0 jsonpointer-2.2 jsonref-0.2 monotonic-1.6 neptune-client-0.13.1 rfc3987-1.3.8 strict-rfc3339-0.7 swagger-spec-validator-2.7.4 webcolors-1.11.1\r\n",
      "\u001b[33mWARNING: Running pip as the 'root' user can result in broken permissions and conflicting behaviour with the system package manager. It is recommended to use a virtual environment instead: https://pip.pypa.io/warnings/venv\u001b[0m\r\n",
      "Collecting segmentation-models-pytorch\r\n",
      "  Downloading segmentation_models_pytorch-0.2.1-py3-none-any.whl (88 kB)\r\n",
      "\u001b[K     |████████████████████████████████| 88 kB 364 kB/s \r\n",
      "\u001b[?25hCollecting timm==0.4.12\r\n",
      "  Downloading timm-0.4.12-py3-none-any.whl (376 kB)\r\n",
      "\u001b[K     |████████████████████████████████| 376 kB 585 kB/s \r\n",
      "\u001b[?25hCollecting pretrainedmodels==0.7.4\r\n",
      "  Downloading pretrainedmodels-0.7.4.tar.gz (58 kB)\r\n",
      "\u001b[K     |████████████████████████████████| 58 kB 3.3 MB/s \r\n",
      "\u001b[?25hRequirement already satisfied: torchvision>=0.5.0 in /opt/conda/lib/python3.7/site-packages (from segmentation-models-pytorch) (0.10.1)\r\n",
      "Collecting efficientnet-pytorch==0.6.3\r\n",
      "  Downloading efficientnet_pytorch-0.6.3.tar.gz (16 kB)\r\n",
      "Requirement already satisfied: torch in /opt/conda/lib/python3.7/site-packages (from efficientnet-pytorch==0.6.3->segmentation-models-pytorch) (1.9.1)\r\n",
      "Requirement already satisfied: munch in /opt/conda/lib/python3.7/site-packages (from pretrainedmodels==0.7.4->segmentation-models-pytorch) (2.5.0)\r\n",
      "Requirement already satisfied: tqdm in /opt/conda/lib/python3.7/site-packages (from pretrainedmodels==0.7.4->segmentation-models-pytorch) (4.62.3)\r\n",
      "Requirement already satisfied: typing-extensions in /opt/conda/lib/python3.7/site-packages (from torch->efficientnet-pytorch==0.6.3->segmentation-models-pytorch) (3.10.0.2)\r\n",
      "Requirement already satisfied: numpy in /opt/conda/lib/python3.7/site-packages (from torchvision>=0.5.0->segmentation-models-pytorch) (1.19.5)\r\n",
      "Requirement already satisfied: pillow>=5.3.0 in /opt/conda/lib/python3.7/site-packages (from torchvision>=0.5.0->segmentation-models-pytorch) (8.2.0)\r\n",
      "Requirement already satisfied: six in /opt/conda/lib/python3.7/site-packages (from munch->pretrainedmodels==0.7.4->segmentation-models-pytorch) (1.16.0)\r\n",
      "Building wheels for collected packages: efficientnet-pytorch, pretrainedmodels\r\n",
      "  Building wheel for efficientnet-pytorch (setup.py) ... \u001b[?25l-\b \bdone\r\n",
      "\u001b[?25h  Created wheel for efficientnet-pytorch: filename=efficientnet_pytorch-0.6.3-py3-none-any.whl size=12421 sha256=20314b28a287bf9c47c99cff1ce40fbf793e32c163f9ee72e7423c2117420aeb\r\n",
      "  Stored in directory: /root/.cache/pip/wheels/90/6b/0c/f0ad36d00310e65390b0d4c9218ae6250ac579c92540c9097a\r\n",
      "  Building wheel for pretrainedmodels (setup.py) ... \u001b[?25l-\b \b\\\b \bdone\r\n",
      "\u001b[?25h  Created wheel for pretrainedmodels: filename=pretrainedmodels-0.7.4-py3-none-any.whl size=60965 sha256=641aac7aa3322d665e2e095ea8f1fb3e2e7e944085f2a6e34c5283d011f9eb1d\r\n",
      "  Stored in directory: /root/.cache/pip/wheels/ed/27/e8/9543d42de2740d3544db96aefef63bda3f2c1761b3334f4873\r\n",
      "Successfully built efficientnet-pytorch pretrainedmodels\r\n",
      "Installing collected packages: timm, pretrainedmodels, efficientnet-pytorch, segmentation-models-pytorch\r\n",
      "Successfully installed efficientnet-pytorch-0.6.3 pretrainedmodels-0.7.4 segmentation-models-pytorch-0.2.1 timm-0.4.12\r\n",
      "\u001b[33mWARNING: Running pip as the 'root' user can result in broken permissions and conflicting behaviour with the system package manager. It is recommended to use a virtual environment instead: https://pip.pypa.io/warnings/venv\u001b[0m\r\n"
     ]
    }
   ],
   "source": [
    "!pip install neptune-client\n",
    "!pip install -U segmentation-models-pytorch"
   ]
  },
  {
   "cell_type": "code",
   "execution_count": 3,
   "id": "1026fd08",
   "metadata": {
    "_cell_guid": "61fef2cf-2e61-40be-8ee3-1f30bba679a2",
    "_uuid": "a45fe131-9d73-4956-b255-f56055f2bdb3",
    "collapsed": false,
    "execution": {
     "iopub.execute_input": "2021-11-21T11:09:13.825811Z",
     "iopub.status.busy": "2021-11-21T11:09:13.824946Z",
     "iopub.status.idle": "2021-11-21T11:09:23.568142Z",
     "shell.execute_reply": "2021-11-21T11:09:23.567151Z",
     "shell.execute_reply.started": "2021-11-21T10:56:56.111725Z"
    },
    "jupyter": {
     "outputs_hidden": false
    },
    "papermill": {
     "duration": 9.780782,
     "end_time": "2021-11-21T11:09:23.568300",
     "exception": false,
     "start_time": "2021-11-21T11:09:13.787518",
     "status": "completed"
    },
    "tags": []
   },
   "outputs": [],
   "source": [
    "import pandas as pd \n",
    "import numpy as np \n",
    "import matplotlib.pyplot as plt \n",
    "import segmentation_models_pytorch as smp\n",
    "\n",
    "from sklearn import metrics\n",
    "from sklearn import model_selection\n",
    "\n",
    "import torch \n",
    "from torch import nn \n",
    "from torch.utils.data import Dataset\n",
    "import torch.nn.functional as F\n",
    "\n",
    "import cv2\n",
    "import os \n",
    "\n",
    "import Flash \n",
    "from Flash.model import Model \n",
    "from Flash.activations import Mish, Swish\n",
    "from Flash.optimizers import Ranger, MADGRAD, Lookahead \n",
    "\n",
    "import albumentations as A \n",
    "from albumentations.pytorch import ToTensorV2\n",
    "from albumentations import ImageOnlyTransform"
   ]
  },
  {
   "cell_type": "code",
   "execution_count": 4,
   "id": "a4b17e1d",
   "metadata": {
    "_cell_guid": "c056d8e0-efac-42c2-aec2-e79d74d4a6d6",
    "_uuid": "113c22c2-3eec-49e2-8c10-7f9da643e353",
    "collapsed": false,
    "execution": {
     "iopub.execute_input": "2021-11-21T11:09:23.634049Z",
     "iopub.status.busy": "2021-11-21T11:09:23.632410Z",
     "iopub.status.idle": "2021-11-21T11:09:23.634651Z",
     "shell.execute_reply": "2021-11-21T11:09:23.635091Z",
     "shell.execute_reply.started": "2021-11-21T10:57:05.770753Z"
    },
    "jupyter": {
     "outputs_hidden": false
    },
    "papermill": {
     "duration": 0.037774,
     "end_time": "2021-11-21T11:09:23.635230",
     "exception": false,
     "start_time": "2021-11-21T11:09:23.597456",
     "status": "completed"
    },
    "tags": []
   },
   "outputs": [],
   "source": [
    "def run_length_decode(rle, height=1024, width=1024, fill_value=1):\n",
    "    component = np.zeros((height, width), np.float32)\n",
    "    component = component.reshape(-1)\n",
    "    rle = np.array([int(s) for s in rle.strip().split(' ')])\n",
    "    rle = rle.reshape(-1, 2)\n",
    "    start = 0\n",
    "    for index, length in rle:\n",
    "        start = start+index\n",
    "        end = start+length\n",
    "        component[start: end] = fill_value\n",
    "        start = end\n",
    "    component = component.reshape(width, height).T\n",
    "    return component"
   ]
  },
  {
   "cell_type": "code",
   "execution_count": 5,
   "id": "f8349f70",
   "metadata": {
    "_cell_guid": "5fe43e53-f92e-4657-b639-f03e209cffbf",
    "_uuid": "8b0661e5-c7f3-42e1-8787-7df7201596b2",
    "collapsed": false,
    "execution": {
     "iopub.execute_input": "2021-11-21T11:09:23.699368Z",
     "iopub.status.busy": "2021-11-21T11:09:23.697820Z",
     "iopub.status.idle": "2021-11-21T11:09:23.699992Z",
     "shell.execute_reply": "2021-11-21T11:09:23.700397Z",
     "shell.execute_reply.started": "2021-11-21T10:57:05.783133Z"
    },
    "jupyter": {
     "outputs_hidden": false
    },
    "papermill": {
     "duration": 0.03688,
     "end_time": "2021-11-21T11:09:23.700524",
     "exception": false,
     "start_time": "2021-11-21T11:09:23.663644",
     "status": "completed"
    },
    "tags": []
   },
   "outputs": [],
   "source": [
    "params = {\n",
    "    'DATA_DIR' : '../input/siim-png-images/train_png/',\n",
    "    'TRAIN_CSV' : '../input/ps-folds/train_folds.csv',\n",
    "\n",
    "    'SEED' : 42,\n",
    "    'FOLD' : 1,\n",
    "    'IMG_SIZE' : 384,\n",
    "\n",
    "    'EPOCHS' : 12,\n",
    "    'BATCH_SIZE' : 16,\n",
    "\n",
    "    'NUM_WORKERS' : 4,\n",
    "    'DEVICE' : 'cuda',\n",
    "    'OPTIMIZER' : 'ranger',\n",
    "    'CRIT' : 'focal_loss + dice',\n",
    "    'SCHEDULER' : 'cosine',\n",
    "\n",
    "    'OUTPUT_DIM' : 1,\n",
    "    'ENCODER' : 'timm-efficientnet-b0',\n",
    "    'DEVICE' : 'cuda',\n",
    "\n",
    "    'LR' : 0.0003,\n",
    "    'T_MAX' : 12,\n",
    "    'ETA_MIN' : 1e-6,\n",
    "\n",
    "    'FP16' : True,\n",
    "\n",
    "    'SCHEDULER_PARAMS' : {\n",
    "        \"lr_start\": 1e-4,\n",
    "        \"lr_max\": 1e-4 * 32,\n",
    "        \"lr_min\": 1e-6,\n",
    "        \"lr_ramp_ep\": 6,\n",
    "        \"lr_sus_ep\": 0,\n",
    "        \"lr_decay\": 0.75,\n",
    "    }\n",
    "}"
   ]
  },
  {
   "cell_type": "code",
   "execution_count": 6,
   "id": "8aa52815",
   "metadata": {
    "_cell_guid": "430eb54e-3b9d-45a0-9f71-4e202024176d",
    "_uuid": "4d1e8539-9f54-4393-beec-9ce50ba23e0b",
    "collapsed": false,
    "execution": {
     "iopub.execute_input": "2021-11-21T11:09:23.760823Z",
     "iopub.status.busy": "2021-11-21T11:09:23.760319Z",
     "iopub.status.idle": "2021-11-21T11:09:23.886184Z",
     "shell.execute_reply": "2021-11-21T11:09:23.886633Z",
     "shell.execute_reply.started": "2021-11-21T10:57:05.793646Z"
    },
    "jupyter": {
     "outputs_hidden": false
    },
    "papermill": {
     "duration": 0.158215,
     "end_time": "2021-11-21T11:09:23.886786",
     "exception": false,
     "start_time": "2021-11-21T11:09:23.728571",
     "status": "completed"
    },
    "tags": []
   },
   "outputs": [
    {
     "data": {
      "text/html": [
       "<div>\n",
       "<style scoped>\n",
       "    .dataframe tbody tr th:only-of-type {\n",
       "        vertical-align: middle;\n",
       "    }\n",
       "\n",
       "    .dataframe tbody tr th {\n",
       "        vertical-align: top;\n",
       "    }\n",
       "\n",
       "    .dataframe thead th {\n",
       "        text-align: right;\n",
       "    }\n",
       "</style>\n",
       "<table border=\"1\" class=\"dataframe\">\n",
       "  <thead>\n",
       "    <tr style=\"text-align: right;\">\n",
       "      <th></th>\n",
       "      <th>ImageId</th>\n",
       "      <th>EncodedPixels</th>\n",
       "      <th>kfold</th>\n",
       "    </tr>\n",
       "  </thead>\n",
       "  <tbody>\n",
       "    <tr>\n",
       "      <th>0</th>\n",
       "      <td>1.2.276.0.7230010.3.1.4.8323329.10784.15178752...</td>\n",
       "      <td>-1</td>\n",
       "      <td>0</td>\n",
       "    </tr>\n",
       "    <tr>\n",
       "      <th>1</th>\n",
       "      <td>1.2.276.0.7230010.3.1.4.8323329.14503.15178752...</td>\n",
       "      <td>-1</td>\n",
       "      <td>0</td>\n",
       "    </tr>\n",
       "    <tr>\n",
       "      <th>2</th>\n",
       "      <td>1.2.276.0.7230010.3.1.4.8323329.3100.151787517...</td>\n",
       "      <td>-1</td>\n",
       "      <td>0</td>\n",
       "    </tr>\n",
       "    <tr>\n",
       "      <th>3</th>\n",
       "      <td>1.2.276.0.7230010.3.1.4.8323329.31831.15178751...</td>\n",
       "      <td>405665 2 1021 3 1020 4 1019 5 1018 5 1018 6 1...</td>\n",
       "      <td>0</td>\n",
       "    </tr>\n",
       "    <tr>\n",
       "      <th>4</th>\n",
       "      <td>1.2.276.0.7230010.3.1.4.8323329.11993.15178752...</td>\n",
       "      <td>-1</td>\n",
       "      <td>0</td>\n",
       "    </tr>\n",
       "  </tbody>\n",
       "</table>\n",
       "</div>"
      ],
      "text/plain": [
       "                                             ImageId  \\\n",
       "0  1.2.276.0.7230010.3.1.4.8323329.10784.15178752...   \n",
       "1  1.2.276.0.7230010.3.1.4.8323329.14503.15178752...   \n",
       "2  1.2.276.0.7230010.3.1.4.8323329.3100.151787517...   \n",
       "3  1.2.276.0.7230010.3.1.4.8323329.31831.15178751...   \n",
       "4  1.2.276.0.7230010.3.1.4.8323329.11993.15178752...   \n",
       "\n",
       "                                       EncodedPixels  kfold  \n",
       "0                                                 -1      0  \n",
       "1                                                 -1      0  \n",
       "2                                                 -1      0  \n",
       "3   405665 2 1021 3 1020 4 1019 5 1018 5 1018 6 1...      0  \n",
       "4                                                 -1      0  "
      ]
     },
     "execution_count": 6,
     "metadata": {},
     "output_type": "execute_result"
    }
   ],
   "source": [
    "df = pd.read_csv(params['TRAIN_CSV'])\n",
    "df.head()"
   ]
  },
  {
   "cell_type": "code",
   "execution_count": 7,
   "id": "6cba1665",
   "metadata": {
    "execution": {
     "iopub.execute_input": "2021-11-21T11:09:23.956575Z",
     "iopub.status.busy": "2021-11-21T11:09:23.955746Z",
     "iopub.status.idle": "2021-11-21T11:09:23.958378Z",
     "shell.execute_reply": "2021-11-21T11:09:23.957910Z",
     "shell.execute_reply.started": "2021-11-21T10:57:05.924398Z"
    },
    "papermill": {
     "duration": 0.042036,
     "end_time": "2021-11-21T11:09:23.958487",
     "exception": false,
     "start_time": "2021-11-21T11:09:23.916451",
     "status": "completed"
    },
    "tags": []
   },
   "outputs": [],
   "source": [
    "class PneumothoraxDataset(Dataset):\n",
    "    \n",
    "    def __init__(self, df, preprocessing_fun = None, augmentations = None):\n",
    "        self.df = df\n",
    "        self.augmentations = augmentations\n",
    "        self.preprocessing_fun = preprocessing_fun\n",
    "        self.channel_first = True\n",
    "        \n",
    "    def __len__(self):\n",
    "        return len(self.df)\n",
    "    \n",
    "    def __getitem__(self,idx):\n",
    "        \n",
    "        row = self.df.iloc[idx]\n",
    "        \n",
    "        image_id = row['ImageId']\n",
    "        enc_pix = [row[' EncodedPixels']]\n",
    "        \n",
    "        img_path = os.path.join(params['DATA_DIR'], image_id + \".png\")\n",
    "        img = cv2.imread(img_path)\n",
    "        img = cv2.cvtColor(img, cv2.COLOR_BGR2RGB)\n",
    "        \n",
    "        mask = np.zeros(shape=(1024,1024))\n",
    "        if enc_pix[0] != ' -1':\n",
    "            for rle in enc_pix:\n",
    "                mask += run_length_decode(rle)\n",
    "        mask = (mask >= 1).astype('float32')\n",
    "        mask = np.expand_dims(mask, axis=-1)\n",
    "        \n",
    "        if self.augmentations:\n",
    "            augmented = self.augmentations(image=img, mask=mask)\n",
    "            img = augmented['image']\n",
    "            mask = augmented['mask']\n",
    "            \n",
    "        if self.preprocessing_fun:\n",
    "            img = self.preprocessing_fun(img)\n",
    "            \n",
    "        if self.channel_first:\n",
    "            img = np.transpose(img, (2, 0, 1)).astype(np.float32)\n",
    "            mask = np.transpose(mask, (2, 0, 1)).astype(np.float32)\n",
    "            \n",
    "        return {\n",
    "            'images' : torch.Tensor(img),\n",
    "            'masks' : torch.Tensor(mask)\n",
    "        }"
   ]
  },
  {
   "cell_type": "code",
   "execution_count": 8,
   "id": "cea1964c",
   "metadata": {
    "execution": {
     "iopub.execute_input": "2021-11-21T11:09:24.032210Z",
     "iopub.status.busy": "2021-11-21T11:09:24.031402Z",
     "iopub.status.idle": "2021-11-21T11:09:24.037091Z",
     "shell.execute_reply": "2021-11-21T11:09:24.036612Z",
     "shell.execute_reply.started": "2021-11-21T10:57:05.936726Z"
    },
    "papermill": {
     "duration": 0.047009,
     "end_time": "2021-11-21T11:09:24.037211",
     "exception": false,
     "start_time": "2021-11-21T11:09:23.990202",
     "status": "completed"
    },
    "tags": []
   },
   "outputs": [
    {
     "name": "stderr",
     "output_type": "stream",
     "text": [
      "/opt/conda/lib/python3.7/site-packages/albumentations/augmentations/transforms.py:691: FutureWarning: This class has been deprecated. Please use CoarseDropout\n",
      "  FutureWarning,\n"
     ]
    }
   ],
   "source": [
    "train_augs = A.Compose([\n",
    "    A.ShiftScaleRotate(shift_limit=0.0625, scale_limit=0.1, rotate_limit=10, p=0.5),\n",
    "    A.OneOf([A.RandomGamma(gamma_limit=(90,110)),\n",
    "             A.RandomBrightnessContrast(brightness_limit=0.1, contrast_limit=0.1)], p=0.5),\n",
    "    A.Cutout(max_h_size=int(params['IMG_SIZE'] * 0.05), max_w_size=int(params['IMG_SIZE'] * 0.05), num_holes=10, p=0.5),\n",
    "    A.Resize(params['IMG_SIZE'], params['IMG_SIZE'])\n",
    "])\n",
    "\n",
    "valid_augs = A.Compose([\n",
    "    A.Resize(params['IMG_SIZE'], params['IMG_SIZE'])\n",
    "])\n",
    "\n",
    "prep_fun = smp.encoders.get_preprocessing_fn(\n",
    "    params['ENCODER'],\n",
    "    'imagenet'\n",
    ")"
   ]
  },
  {
   "cell_type": "code",
   "execution_count": 9,
   "id": "56ff1f0b",
   "metadata": {
    "execution": {
     "iopub.execute_input": "2021-11-21T11:09:24.107193Z",
     "iopub.status.busy": "2021-11-21T11:09:24.106397Z",
     "iopub.status.idle": "2021-11-21T11:09:24.108979Z",
     "shell.execute_reply": "2021-11-21T11:09:24.108533Z",
     "shell.execute_reply.started": "2021-11-21T10:57:05.953023Z"
    },
    "papermill": {
     "duration": 0.041803,
     "end_time": "2021-11-21T11:09:24.109104",
     "exception": false,
     "start_time": "2021-11-21T11:09:24.067301",
     "status": "completed"
    },
    "tags": []
   },
   "outputs": [],
   "source": [
    "def dice_loss(input, target):\n",
    "    input = torch.sigmoid(input)\n",
    "    smooth = 1.0\n",
    "    iflat = input.view(-1)\n",
    "    tflat = target.view(-1)\n",
    "    intersection = (iflat * tflat).sum()\n",
    "    return ((2.0 * intersection + smooth) / (iflat.sum() + tflat.sum() + smooth))\n",
    "\n",
    "\n",
    "class FocalLoss(nn.Module):\n",
    "    def __init__(self, gamma):\n",
    "        super().__init__()\n",
    "        self.gamma = gamma\n",
    "\n",
    "    def forward(self, input, target):\n",
    "        if not (target.size() == input.size()):\n",
    "            raise ValueError(\"Target size ({}) must be the same as input size ({})\"\n",
    "                             .format(target.size(), input.size()))\n",
    "        max_val = (-input).clamp(min=0)\n",
    "        loss = input - input * target + max_val + \\\n",
    "            ((-max_val).exp() + (-input - max_val).exp()).log()\n",
    "        invprobs = F.logsigmoid(-input * (target * 2.0 - 1.0))\n",
    "        loss = (invprobs * self.gamma).exp() * loss\n",
    "        return loss.mean()\n",
    "\n",
    "\n",
    "class MixedLoss(nn.Module):\n",
    "    def __init__(self, alpha, gamma):\n",
    "        super().__init__()\n",
    "        self.alpha = alpha\n",
    "        self.focal = FocalLoss(gamma)\n",
    "\n",
    "    def forward(self, input, target):\n",
    "        loss = self.alpha*self.focal(input, target) - torch.log(dice_loss(input, target))\n",
    "        return loss.mean()"
   ]
  },
  {
   "cell_type": "code",
   "execution_count": 10,
   "id": "5dc35b2b",
   "metadata": {
    "execution": {
     "iopub.execute_input": "2021-11-21T11:09:24.174423Z",
     "iopub.status.busy": "2021-11-21T11:09:24.173703Z",
     "iopub.status.idle": "2021-11-21T11:09:24.175970Z",
     "shell.execute_reply": "2021-11-21T11:09:24.176364Z",
     "shell.execute_reply.started": "2021-11-21T10:57:05.966926Z"
    },
    "papermill": {
     "duration": 0.038301,
     "end_time": "2021-11-21T11:09:24.176494",
     "exception": false,
     "start_time": "2021-11-21T11:09:24.138193",
     "status": "completed"
    },
    "tags": []
   },
   "outputs": [],
   "source": [
    "class PneumothoraxModel(Model):\n",
    "    \n",
    "    def __init__(self, pretrained = True):\n",
    "        super(PneumothoraxModel, self).__init__()\n",
    "        \n",
    "        self.backbone = smp.Unet(\n",
    "            encoder_name = params['ENCODER'],\n",
    "            encoder_weights = 'imagenet',\n",
    "            in_channels = 3,\n",
    "            classes = 1,\n",
    "            activation = None\n",
    "        )\n",
    "        \n",
    "    def configure_optimizer(self):\n",
    "        return Ranger(self.parameters(), lr = params['LR'])\n",
    "    \n",
    "    def configure_scheduler(self):\n",
    "        return torch.optim.lr_scheduler.CosineAnnealingLR(\n",
    "            self.optimizer,\n",
    "            T_max = params['T_MAX'],\n",
    "            eta_min = params['ETA_MIN']\n",
    "        )\n",
    "    \n",
    "    def forward(self, images, masks):\n",
    "        \n",
    "        logits = self.backbone(images)\n",
    "        \n",
    "        if masks != None:\n",
    "            return logits, MixedLoss(alpha = 10.0, gamma = 2.0)(logits, masks), None\n",
    "        \n",
    "        return logits"
   ]
  },
  {
   "cell_type": "code",
   "execution_count": 11,
   "id": "112875ad",
   "metadata": {
    "execution": {
     "iopub.execute_input": "2021-11-21T11:09:24.239800Z",
     "iopub.status.busy": "2021-11-21T11:09:24.239298Z",
     "iopub.status.idle": "2021-11-21T11:09:32.025973Z",
     "shell.execute_reply": "2021-11-21T11:09:32.026452Z",
     "shell.execute_reply.started": "2021-11-21T10:57:05.978824Z"
    },
    "papermill": {
     "duration": 7.821344,
     "end_time": "2021-11-21T11:09:32.026622",
     "exception": false,
     "start_time": "2021-11-21T11:09:24.205278",
     "status": "completed"
    },
    "tags": []
   },
   "outputs": [
    {
     "name": "stderr",
     "output_type": "stream",
     "text": [
      "Downloading: \"https://github.com/rwightman/pytorch-image-models/releases/download/v0.1-weights/tf_efficientnet_b0_aa-827b6e33.pth\" to /root/.cache/torch/hub/checkpoints/tf_efficientnet_b0_aa-827b6e33.pth\n"
     ]
    },
    {
     "data": {
      "application/vnd.jupyter.widget-view+json": {
       "model_id": "0b4e97c8cf3d485e9687759c19725c16",
       "version_major": 2,
       "version_minor": 0
      },
      "text/plain": [
       "  0%|          | 0.00/20.4M [00:00<?, ?B/s]"
      ]
     },
     "metadata": {},
     "output_type": "display_data"
    }
   ],
   "source": [
    "model = PneumothoraxModel()\n",
    "model.to(params['DEVICE']);"
   ]
  },
  {
   "cell_type": "code",
   "execution_count": 12,
   "id": "b4bdad9a",
   "metadata": {
    "execution": {
     "iopub.execute_input": "2021-11-21T11:09:32.100030Z",
     "iopub.status.busy": "2021-11-21T11:09:32.099326Z",
     "iopub.status.idle": "2021-11-21T11:09:32.106327Z",
     "shell.execute_reply": "2021-11-21T11:09:32.105817Z",
     "shell.execute_reply.started": "2021-11-21T10:57:12.465944Z"
    },
    "papermill": {
     "duration": 0.045133,
     "end_time": "2021-11-21T11:09:32.106449",
     "exception": false,
     "start_time": "2021-11-21T11:09:32.061316",
     "status": "completed"
    },
    "tags": []
   },
   "outputs": [],
   "source": [
    "df_train = df[df['kfold'] != params['FOLD']]\n",
    "df_valid = df[df['kfold'] == params['FOLD']]\n",
    "\n",
    "trainset = PneumothoraxDataset(df_train, prep_fun, train_augs)\n",
    "validset = PneumothoraxDataset(df_valid, prep_fun, valid_augs)"
   ]
  },
  {
   "cell_type": "code",
   "execution_count": 13,
   "id": "6973958e",
   "metadata": {
    "execution": {
     "iopub.execute_input": "2021-11-21T11:09:32.173978Z",
     "iopub.status.busy": "2021-11-21T11:09:32.173454Z",
     "iopub.status.idle": "2021-11-21T12:35:06.529412Z",
     "shell.execute_reply": "2021-11-21T12:35:06.528919Z"
    },
    "papermill": {
     "duration": 5134.391971,
     "end_time": "2021-11-21T12:35:06.529536",
     "exception": false,
     "start_time": "2021-11-21T11:09:32.137565",
     "status": "completed"
    },
    "tags": []
   },
   "outputs": [
    {
     "name": "stdout",
     "output_type": "stream",
     "text": [
      "https://app.neptune.ai/parthdhameliya/Pneumothorax-seg/e/PNEUM-11\n",
      "Ranger optimizer loaded. \n",
      "Gradient Centralization usage = True\n",
      "GC applied to both conv and fc layers\n"
     ]
    },
    {
     "name": "stderr",
     "output_type": "stream",
     "text": [
      "Epoch [TRAIN] 1: 100%|██████████| 579/579 [06:19<00:00,  1.53it/s, trn_live_loss=5.213209, LR=0.0003]\n",
      "Epoch [VALID] 1: 100%|██████████| 145/145 [01:01<00:00,  2.36it/s, val_live_loss=3.959908]\n"
     ]
    },
    {
     "name": "stdout",
     "output_type": "stream",
     "text": [
      "MODEL_SAVED\n",
      "train metrics : {}\n",
      "valid metrics : {}\n",
      "Epoch : 1 train_loss : 5.213209038571373 valid_loss : 3.9599079049866774\n"
     ]
    },
    {
     "name": "stderr",
     "output_type": "stream",
     "text": [
      "Epoch [TRAIN] 2: 100%|██████████| 579/579 [06:01<00:00,  1.60it/s, trn_live_loss=3.168541, LR=0.000295]\n",
      "Epoch [VALID] 2: 100%|██████████| 145/145 [00:57<00:00,  2.51it/s, val_live_loss=2.213498]\n"
     ]
    },
    {
     "name": "stdout",
     "output_type": "stream",
     "text": [
      "MODEL_SAVED\n",
      "train metrics : {}\n",
      "valid metrics : {}\n",
      "Epoch : 2 train_loss : 3.1685407791730653 valid_loss : 2.2134982109069825\n"
     ]
    },
    {
     "name": "stderr",
     "output_type": "stream",
     "text": [
      "Epoch [TRAIN] 3: 100%|██████████| 579/579 [06:06<00:00,  1.58it/s, trn_live_loss=1.788236, LR=0.00028]\n",
      "Epoch [VALID] 3: 100%|██████████| 145/145 [00:58<00:00,  2.47it/s, val_live_loss=1.686217]\n"
     ]
    },
    {
     "name": "stdout",
     "output_type": "stream",
     "text": [
      "MODEL_SAVED\n",
      "train metrics : {}\n",
      "valid metrics : {}\n",
      "Epoch : 3 train_loss : 1.7882363784910278 valid_loss : 1.6862167619425674\n"
     ]
    },
    {
     "name": "stderr",
     "output_type": "stream",
     "text": [
      "Epoch [TRAIN] 4: 100%|██████████| 579/579 [06:05<00:00,  1.58it/s, trn_live_loss=1.422864, LR=0.000256]\n",
      "Epoch [VALID] 4: 100%|██████████| 145/145 [00:58<00:00,  2.48it/s, val_live_loss=1.474375]\n"
     ]
    },
    {
     "name": "stdout",
     "output_type": "stream",
     "text": [
      "MODEL_SAVED\n",
      "train metrics : {}\n",
      "valid metrics : {}\n",
      "Epoch : 4 train_loss : 1.4228640324814126 valid_loss : 1.4743747577585022\n"
     ]
    },
    {
     "name": "stderr",
     "output_type": "stream",
     "text": [
      "Epoch [TRAIN] 5: 100%|██████████| 579/579 [06:07<00:00,  1.58it/s, trn_live_loss=1.299901, LR=0.000225]\n",
      "Epoch [VALID] 5: 100%|██████████| 145/145 [00:57<00:00,  2.52it/s, val_live_loss=1.313953]\n"
     ]
    },
    {
     "name": "stdout",
     "output_type": "stream",
     "text": [
      "MODEL_SAVED\n",
      "train metrics : {}\n",
      "valid metrics : {}\n",
      "Epoch : 5 train_loss : 1.2999010383568073 valid_loss : 1.3139532977137072\n"
     ]
    },
    {
     "name": "stderr",
     "output_type": "stream",
     "text": [
      "Epoch [TRAIN] 6: 100%|██████████| 579/579 [06:02<00:00,  1.60it/s, trn_live_loss=1.279317, LR=0.000189]\n",
      "Epoch [VALID] 6: 100%|██████████| 145/145 [00:56<00:00,  2.59it/s, val_live_loss=1.361973]\n"
     ]
    },
    {
     "name": "stdout",
     "output_type": "stream",
     "text": [
      "train metrics : {}\n",
      "valid metrics : {}\n",
      "Epoch : 6 train_loss : 1.2793171237478602 valid_loss : 1.361972877691532\n"
     ]
    },
    {
     "name": "stderr",
     "output_type": "stream",
     "text": [
      "Epoch [TRAIN] 7: 100%|██████████| 579/579 [06:07<00:00,  1.58it/s, trn_live_loss=1.154596, LR=0.00015]\n",
      "Epoch [VALID] 7: 100%|██████████| 145/145 [00:59<00:00,  2.44it/s, val_live_loss=1.319583]\n"
     ]
    },
    {
     "name": "stdout",
     "output_type": "stream",
     "text": [
      "train metrics : {}\n",
      "valid metrics : {}\n",
      "Epoch : 7 train_loss : 1.1545963635304637 valid_loss : 1.3195826450298573\n"
     ]
    },
    {
     "name": "stderr",
     "output_type": "stream",
     "text": [
      "Epoch [TRAIN] 8: 100%|██████████| 579/579 [06:08<00:00,  1.57it/s, trn_live_loss=1.082306, LR=0.000112]\n",
      "Epoch [VALID] 8: 100%|██████████| 145/145 [00:59<00:00,  2.42it/s, val_live_loss=1.304058]\n"
     ]
    },
    {
     "name": "stdout",
     "output_type": "stream",
     "text": [
      "MODEL_SAVED\n",
      "train metrics : {}\n",
      "valid metrics : {}\n",
      "Epoch : 8 train_loss : 1.0823059110340882 valid_loss : 1.3040581756624683\n"
     ]
    },
    {
     "name": "stderr",
     "output_type": "stream",
     "text": [
      "Epoch [TRAIN] 9: 100%|██████████| 579/579 [06:08<00:00,  1.57it/s, trn_live_loss=1.100754, LR=7.58e-5]\n",
      "Epoch [VALID] 9: 100%|██████████| 145/145 [00:59<00:00,  2.43it/s, val_live_loss=1.248376]\n"
     ]
    },
    {
     "name": "stdout",
     "output_type": "stream",
     "text": [
      "MODEL_SAVED\n",
      "train metrics : {}\n",
      "valid metrics : {}\n",
      "Epoch : 9 train_loss : 1.1007540408193757 valid_loss : 1.2483764629939507\n"
     ]
    },
    {
     "name": "stderr",
     "output_type": "stream",
     "text": [
      "Epoch [TRAIN] 10: 100%|██████████| 579/579 [06:14<00:00,  1.55it/s, trn_live_loss=1.063018, LR=4.48e-5]\n",
      "Epoch [VALID] 10: 100%|██████████| 145/145 [00:58<00:00,  2.46it/s, val_live_loss=1.204587]\n"
     ]
    },
    {
     "name": "stdout",
     "output_type": "stream",
     "text": [
      "MODEL_SAVED\n",
      "train metrics : {}\n",
      "valid metrics : {}\n",
      "Epoch : 10 train_loss : 1.0630181012273041 valid_loss : 1.2045866175972182\n"
     ]
    },
    {
     "name": "stderr",
     "output_type": "stream",
     "text": [
      "Epoch [TRAIN] 11: 100%|██████████| 579/579 [06:08<00:00,  1.57it/s, trn_live_loss=0.995206, LR=2.1e-5]\n",
      "Epoch [VALID] 11: 100%|██████████| 145/145 [00:58<00:00,  2.48it/s, val_live_loss=1.263517]\n"
     ]
    },
    {
     "name": "stdout",
     "output_type": "stream",
     "text": [
      "train metrics : {}\n",
      "valid metrics : {}\n",
      "Epoch : 11 train_loss : 0.9952061978234734 valid_loss : 1.2635167951213901\n"
     ]
    },
    {
     "name": "stderr",
     "output_type": "stream",
     "text": [
      "Epoch [TRAIN] 12: 100%|██████████| 579/579 [06:04<00:00,  1.59it/s, trn_live_loss=0.970419, LR=6.09e-6]\n",
      "Epoch [VALID] 12: 100%|██████████| 145/145 [00:59<00:00,  2.44it/s, val_live_loss=1.253719]"
     ]
    },
    {
     "name": "stdout",
     "output_type": "stream",
     "text": [
      "train metrics : {}\n",
      "valid metrics : {}\n",
      "Epoch : 12 train_loss : 0.9704193823644328 valid_loss : 1.2537192040476306\n"
     ]
    },
    {
     "name": "stderr",
     "output_type": "stream",
     "text": [
      "\n"
     ]
    }
   ],
   "source": [
    "model.fit(\n",
    "    trainset,\n",
    "    validset,\n",
    "    batch_size = params['BATCH_SIZE'],\n",
    "    device = 'cuda',\n",
    "    fp16 = False,\n",
    "    epochs = params['EPOCHS'],\n",
    "    train_shuffle = True,\n",
    "    valid_shuffle = False,\n",
    "    pin_memory = False,\n",
    "    num_workers = 2,\n",
    "    on_end_metrics = False,\n",
    "    save_model_based_on_metric = False,\n",
    "    save_model_based_on_loss = True,\n",
    "    target_name = 'masks',\n",
    "    model_path =  'Final_'+ params['ENCODER'] + '_' + str(params['FOLD']) + '.pt',\n",
    "    drop_last_batch_train = True,\n",
    "    logger = True,\n",
    "    neptune_api_token = \"eyJhcGlfYWRkcmVzcyI6Imh0dHBzOi8vYXBwLm5lcHR1bmUuYWkiLCJhcGlfdXJsIjoiaHR0cHM6Ly9hcHAubmVwdHVuZS5haSIsImFwaV9rZXkiOiIyMGIxNDQyZC00MmI4LTQyZmUtYjg5NS01ODUyNzRkZWNlMzEifQ==\",\n",
    "    neptune_init = 'parthdhameliya/Pneumothorax-seg',\n",
    "    neptune_experiment_name = 'experiment1-'+params['ENCODER'],\n",
    "    neptune_params = params\n",
    ")"
   ]
  }
 ],
 "metadata": {
  "kernelspec": {
   "display_name": "Python 3",
   "language": "python",
   "name": "python3"
  },
  "language_info": {
   "codemirror_mode": {
    "name": "ipython",
    "version": 3
   },
   "file_extension": ".py",
   "mimetype": "text/x-python",
   "name": "python",
   "nbconvert_exporter": "python",
   "pygments_lexer": "ipython3",
   "version": "3.7.10"
  },
  "papermill": {
   "default_parameters": {},
   "duration": 5199.60437,
   "end_time": "2021-11-21T12:35:14.200787",
   "environment_variables": {},
   "exception": null,
   "input_path": "__notebook__.ipynb",
   "output_path": "__notebook__.ipynb",
   "parameters": {},
   "start_time": "2021-11-21T11:08:34.596417",
   "version": "2.3.3"
  },
  "widgets": {
   "application/vnd.jupyter.widget-state+json": {
    "state": {
     "0b4e97c8cf3d485e9687759c19725c16": {
      "model_module": "@jupyter-widgets/controls",
      "model_module_version": "1.5.0",
      "model_name": "HBoxModel",
      "state": {
       "_dom_classes": [],
       "_model_module": "@jupyter-widgets/controls",
       "_model_module_version": "1.5.0",
       "_model_name": "HBoxModel",
       "_view_count": null,
       "_view_module": "@jupyter-widgets/controls",
       "_view_module_version": "1.5.0",
       "_view_name": "HBoxView",
       "box_style": "",
       "children": [
        "IPY_MODEL_82db8aaeb470476db76cbc60c7169008",
        "IPY_MODEL_c9f488cc7f5a475b894fd38788eeb3f2",
        "IPY_MODEL_bc01c40e07c449189783a8aa71951277"
       ],
       "layout": "IPY_MODEL_1bca9b7695c2414f85474d895beb066d"
      }
     },
     "1bca9b7695c2414f85474d895beb066d": {
      "model_module": "@jupyter-widgets/base",
      "model_module_version": "1.2.0",
      "model_name": "LayoutModel",
      "state": {
       "_model_module": "@jupyter-widgets/base",
       "_model_module_version": "1.2.0",
       "_model_name": "LayoutModel",
       "_view_count": null,
       "_view_module": "@jupyter-widgets/base",
       "_view_module_version": "1.2.0",
       "_view_name": "LayoutView",
       "align_content": null,
       "align_items": null,
       "align_self": null,
       "border": null,
       "bottom": null,
       "display": null,
       "flex": null,
       "flex_flow": null,
       "grid_area": null,
       "grid_auto_columns": null,
       "grid_auto_flow": null,
       "grid_auto_rows": null,
       "grid_column": null,
       "grid_gap": null,
       "grid_row": null,
       "grid_template_areas": null,
       "grid_template_columns": null,
       "grid_template_rows": null,
       "height": null,
       "justify_content": null,
       "justify_items": null,
       "left": null,
       "margin": null,
       "max_height": null,
       "max_width": null,
       "min_height": null,
       "min_width": null,
       "object_fit": null,
       "object_position": null,
       "order": null,
       "overflow": null,
       "overflow_x": null,
       "overflow_y": null,
       "padding": null,
       "right": null,
       "top": null,
       "visibility": null,
       "width": null
      }
     },
     "4ca6c2e522ea478da6d2f96f20e05aaf": {
      "model_module": "@jupyter-widgets/controls",
      "model_module_version": "1.5.0",
      "model_name": "DescriptionStyleModel",
      "state": {
       "_model_module": "@jupyter-widgets/controls",
       "_model_module_version": "1.5.0",
       "_model_name": "DescriptionStyleModel",
       "_view_count": null,
       "_view_module": "@jupyter-widgets/base",
       "_view_module_version": "1.2.0",
       "_view_name": "StyleView",
       "description_width": ""
      }
     },
     "82db8aaeb470476db76cbc60c7169008": {
      "model_module": "@jupyter-widgets/controls",
      "model_module_version": "1.5.0",
      "model_name": "HTMLModel",
      "state": {
       "_dom_classes": [],
       "_model_module": "@jupyter-widgets/controls",
       "_model_module_version": "1.5.0",
       "_model_name": "HTMLModel",
       "_view_count": null,
       "_view_module": "@jupyter-widgets/controls",
       "_view_module_version": "1.5.0",
       "_view_name": "HTMLView",
       "description": "",
       "description_tooltip": null,
       "layout": "IPY_MODEL_b0814be5bb51431691a3c0ddd7ab0ccb",
       "placeholder": "​",
       "style": "IPY_MODEL_9f9c7a6f2e054d49b90efbb49b52b902",
       "value": "100%"
      }
     },
     "8ca94709780c497ba0cf756a65e4ecba": {
      "model_module": "@jupyter-widgets/base",
      "model_module_version": "1.2.0",
      "model_name": "LayoutModel",
      "state": {
       "_model_module": "@jupyter-widgets/base",
       "_model_module_version": "1.2.0",
       "_model_name": "LayoutModel",
       "_view_count": null,
       "_view_module": "@jupyter-widgets/base",
       "_view_module_version": "1.2.0",
       "_view_name": "LayoutView",
       "align_content": null,
       "align_items": null,
       "align_self": null,
       "border": null,
       "bottom": null,
       "display": null,
       "flex": null,
       "flex_flow": null,
       "grid_area": null,
       "grid_auto_columns": null,
       "grid_auto_flow": null,
       "grid_auto_rows": null,
       "grid_column": null,
       "grid_gap": null,
       "grid_row": null,
       "grid_template_areas": null,
       "grid_template_columns": null,
       "grid_template_rows": null,
       "height": null,
       "justify_content": null,
       "justify_items": null,
       "left": null,
       "margin": null,
       "max_height": null,
       "max_width": null,
       "min_height": null,
       "min_width": null,
       "object_fit": null,
       "object_position": null,
       "order": null,
       "overflow": null,
       "overflow_x": null,
       "overflow_y": null,
       "padding": null,
       "right": null,
       "top": null,
       "visibility": null,
       "width": null
      }
     },
     "95ba400418644df886bc88de57d824ae": {
      "model_module": "@jupyter-widgets/base",
      "model_module_version": "1.2.0",
      "model_name": "LayoutModel",
      "state": {
       "_model_module": "@jupyter-widgets/base",
       "_model_module_version": "1.2.0",
       "_model_name": "LayoutModel",
       "_view_count": null,
       "_view_module": "@jupyter-widgets/base",
       "_view_module_version": "1.2.0",
       "_view_name": "LayoutView",
       "align_content": null,
       "align_items": null,
       "align_self": null,
       "border": null,
       "bottom": null,
       "display": null,
       "flex": null,
       "flex_flow": null,
       "grid_area": null,
       "grid_auto_columns": null,
       "grid_auto_flow": null,
       "grid_auto_rows": null,
       "grid_column": null,
       "grid_gap": null,
       "grid_row": null,
       "grid_template_areas": null,
       "grid_template_columns": null,
       "grid_template_rows": null,
       "height": null,
       "justify_content": null,
       "justify_items": null,
       "left": null,
       "margin": null,
       "max_height": null,
       "max_width": null,
       "min_height": null,
       "min_width": null,
       "object_fit": null,
       "object_position": null,
       "order": null,
       "overflow": null,
       "overflow_x": null,
       "overflow_y": null,
       "padding": null,
       "right": null,
       "top": null,
       "visibility": null,
       "width": null
      }
     },
     "9f9c7a6f2e054d49b90efbb49b52b902": {
      "model_module": "@jupyter-widgets/controls",
      "model_module_version": "1.5.0",
      "model_name": "DescriptionStyleModel",
      "state": {
       "_model_module": "@jupyter-widgets/controls",
       "_model_module_version": "1.5.0",
       "_model_name": "DescriptionStyleModel",
       "_view_count": null,
       "_view_module": "@jupyter-widgets/base",
       "_view_module_version": "1.2.0",
       "_view_name": "StyleView",
       "description_width": ""
      }
     },
     "a5330ce7cab747d9ba16e5c5e29db58a": {
      "model_module": "@jupyter-widgets/controls",
      "model_module_version": "1.5.0",
      "model_name": "ProgressStyleModel",
      "state": {
       "_model_module": "@jupyter-widgets/controls",
       "_model_module_version": "1.5.0",
       "_model_name": "ProgressStyleModel",
       "_view_count": null,
       "_view_module": "@jupyter-widgets/base",
       "_view_module_version": "1.2.0",
       "_view_name": "StyleView",
       "bar_color": null,
       "description_width": ""
      }
     },
     "b0814be5bb51431691a3c0ddd7ab0ccb": {
      "model_module": "@jupyter-widgets/base",
      "model_module_version": "1.2.0",
      "model_name": "LayoutModel",
      "state": {
       "_model_module": "@jupyter-widgets/base",
       "_model_module_version": "1.2.0",
       "_model_name": "LayoutModel",
       "_view_count": null,
       "_view_module": "@jupyter-widgets/base",
       "_view_module_version": "1.2.0",
       "_view_name": "LayoutView",
       "align_content": null,
       "align_items": null,
       "align_self": null,
       "border": null,
       "bottom": null,
       "display": null,
       "flex": null,
       "flex_flow": null,
       "grid_area": null,
       "grid_auto_columns": null,
       "grid_auto_flow": null,
       "grid_auto_rows": null,
       "grid_column": null,
       "grid_gap": null,
       "grid_row": null,
       "grid_template_areas": null,
       "grid_template_columns": null,
       "grid_template_rows": null,
       "height": null,
       "justify_content": null,
       "justify_items": null,
       "left": null,
       "margin": null,
       "max_height": null,
       "max_width": null,
       "min_height": null,
       "min_width": null,
       "object_fit": null,
       "object_position": null,
       "order": null,
       "overflow": null,
       "overflow_x": null,
       "overflow_y": null,
       "padding": null,
       "right": null,
       "top": null,
       "visibility": null,
       "width": null
      }
     },
     "bc01c40e07c449189783a8aa71951277": {
      "model_module": "@jupyter-widgets/controls",
      "model_module_version": "1.5.0",
      "model_name": "HTMLModel",
      "state": {
       "_dom_classes": [],
       "_model_module": "@jupyter-widgets/controls",
       "_model_module_version": "1.5.0",
       "_model_name": "HTMLModel",
       "_view_count": null,
       "_view_module": "@jupyter-widgets/controls",
       "_view_module_version": "1.5.0",
       "_view_name": "HTMLView",
       "description": "",
       "description_tooltip": null,
       "layout": "IPY_MODEL_95ba400418644df886bc88de57d824ae",
       "placeholder": "​",
       "style": "IPY_MODEL_4ca6c2e522ea478da6d2f96f20e05aaf",
       "value": " 20.4M/20.4M [00:00&lt;00:00, 120MB/s]"
      }
     },
     "c9f488cc7f5a475b894fd38788eeb3f2": {
      "model_module": "@jupyter-widgets/controls",
      "model_module_version": "1.5.0",
      "model_name": "FloatProgressModel",
      "state": {
       "_dom_classes": [],
       "_model_module": "@jupyter-widgets/controls",
       "_model_module_version": "1.5.0",
       "_model_name": "FloatProgressModel",
       "_view_count": null,
       "_view_module": "@jupyter-widgets/controls",
       "_view_module_version": "1.5.0",
       "_view_name": "ProgressView",
       "bar_style": "success",
       "description": "",
       "description_tooltip": null,
       "layout": "IPY_MODEL_8ca94709780c497ba0cf756a65e4ecba",
       "max": 21383997.0,
       "min": 0.0,
       "orientation": "horizontal",
       "style": "IPY_MODEL_a5330ce7cab747d9ba16e5c5e29db58a",
       "value": 21383997.0
      }
     }
    },
    "version_major": 2,
    "version_minor": 0
   }
  }
 },
 "nbformat": 4,
 "nbformat_minor": 5
}
